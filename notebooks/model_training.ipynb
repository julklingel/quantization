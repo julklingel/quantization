{
 "cells": [
  {
   "cell_type": "markdown",
   "metadata": {},
   "source": [
    "# Model Training Notebook"
   ]
  },
  {
   "cell_type": "code",
   "execution_count": null,
   "metadata": {
    "collapsed": false
   },
   "outputs": [],
   "source": [
    "import mlflow\n",
    "import mlflow.pytorch\n",
    "import torch\n",
    "from models.classification.resnet_classification import ResNetClassification\n",
    "from models.detection.resnet_detection import ResNetDetection\n",
    "from models.segmentation.resnet_segmentation import ResNetSegmentation\n",
    "from scripts.train_classification import train_classification\n",
    "from scripts.train_detection import train_detection\n",
    "from scripts.train_segmentation import train_segmentation"
   ]
  },
  {
   "cell_type": "code",
   "execution_count": null,
   "metadata": {},
   "outputs": [],
   "source": [
    "mlflow.set_experiment(\"COCO_ResNet_Classification_Training\")\n",
    "with mlflow.start_run(run_name=\"Classification_Model\"):\n",
    "    train_classification()"
   ]
  },
  {
   "cell_type": "code",
   "execution_count": null,
   "metadata": {},
   "outputs": [],
   "source": [
    "mlflow.set_experiment(\"COCO_ResNet_Detection_Training\")\n",
    "with mlflow.start_run(run_name=\"Detection_Model\"):\n",
    "    train_detection()  "
   ]
  },
  {
   "cell_type": "code",
   "execution_count": null,
   "metadata": {},
   "outputs": [],
   "source": [
    "mlflow.set_experiment(\"COCO_ResNet_Segmentation_Training\")\n",
    "with mlflow.start_run(run_name=\"Segmentation_Model\"):\n",
    "    train_segmentation()  "
   ]
  }
 ],
 "metadata": {
  "kernelspec": {
   "display_name": "cvenv",
   "language": "python",
   "name": "python3"
  },
  "language_info": {
   "codemirror_mode": {
    "name": "ipython",
    "version": 3
   },
   "file_extension": ".py",
   "mimetype": "text/x-python",
   "name": "python",
   "nbconvert_exporter": "python",
   "pygments_lexer": "ipython3",
   "version": "3.12.3"
  }
 },
 "nbformat": 4,
 "nbformat_minor": 4
}
