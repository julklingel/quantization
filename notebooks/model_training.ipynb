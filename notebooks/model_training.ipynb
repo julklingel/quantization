{
 "cells": [
  {
   "cell_type": "markdown",
   "metadata": {},
   "source": [
    "# Model Training Notebook"
   ]
  },
  {
   "cell_type": "code",
   "execution_count": 1,
   "metadata": {},
   "outputs": [],
   "source": [
    "import os\n",
    "import sys\n",
    "sys.path.append(os.path.abspath(os.path.join(os.path.dirname('../notebooks'))))"
   ]
  },
  {
   "cell_type": "code",
   "execution_count": 2,
   "metadata": {},
   "outputs": [],
   "source": [
    "from utils.utils import setup_mlflow, get_device\n",
    "from utils.data_loader import load_data\n",
    "from models.classification.resnet_classification import Resnet18_Classification\n",
    "from evaluation.classification.eval_classification import plot_confusion_matrix, get_all_preds\n",
    "from scripts.train_classification import train_classification\n",
    "import torch\n",
    "import torchvision.models as models\n",
    "import mlflow\n",
    "from sklearn.metrics import classification_report\n",
    "\n",
    "\n"
   ]
  },
  {
   "cell_type": "markdown",
   "metadata": {},
   "source": [
    "Classification Training\n",
    "----------\n"
   ]
  },
  {
   "cell_type": "code",
   "execution_count": null,
   "metadata": {},
   "outputs": [
    {
     "name": "stdout",
     "output_type": "stream",
     "text": [
      "Using GPU: NVIDIA GeForce RTX 4090\n",
      "Epoch: 1, Mini-Batches: 50, Loss: 0.483, Accuracy: 79.778%\n",
      "Epoch: 2, Mini-Batches: 50, Loss: 0.341, Accuracy: 83.102%\n",
      "Epoch: 3, Mini-Batches: 50, Loss: 0.296, Accuracy: 83.934%\n",
      "Epoch: 4, Mini-Batches: 50, Loss: 0.267, Accuracy: 83.934%\n",
      "Epoch: 5, Mini-Batches: 50, Loss: 0.232, Accuracy: 83.380%\n",
      "Epoch: 6, Mini-Batches: 50, Loss: 0.198, Accuracy: 83.380%\n",
      "Epoch: 7, Mini-Batches: 50, Loss: 0.171, Accuracy: 84.488%\n"
     ]
    }
   ],
   "source": [
    "data_dir = '../data/coco'\n",
    "setup_mlflow(\"classification\", \"http://localhost:5000\") \n",
    "device = get_device()\n",
    "os.makedirs(\"../evaluation/classification\", exist_ok=True)\n",
    "\n",
    "with mlflow.start_run():\n",
    "    mlflow.log_param(\"epochs\", 50)\n",
    "    mlflow.log_param(\"batch_size\", 128)\n",
    "    mlflow.log_param(\"learning_rate\", 0.001)\n",
    "    mlflow.log_param(\"momentum\", 0.9)\n",
    "    \n",
    "    net = Resnet18_Classification().to(device)\n",
    "    trainloader, testloader, class_names = load_data(data_dir, batch_size=128, shuffle=True, resize_x=224, resize_y=224)\n",
    "    trained_net = train_classification(net, trainloader, testloader, device, num_epochs=50)\n",
    "\n",
    "    save_path = '../models_saved/classification.pth'\n",
    "    torch.save(trained_net.state_dict(), save_path)\n",
    "    mlflow.pytorch.log_model(trained_net, \"model\")\n",
    "    mlflow.log_artifact(save_path)\n",
    "\n",
    "\n",
    "    plot_confusion_matrix(trained_net, testloader, class_names, device, save_path=\"../evaluation/classification/confusion_matrix.png\")\n",
    "    y_pred, y_true = get_all_preds(trained_net, testloader, device)\n",
    "    class_report = classification_report(y_true, y_pred, target_names=class_names)\n",
    "    print(class_report)\n",
    "    \n",
    "    report_path = \"../evaluation/classification/classification_report.txt\"\n",
    "    with open(report_path, \"w\") as f:\n",
    "        f.write(class_report)\n",
    "    mlflow.log_artifact(report_path)"
   ]
  },
  {
   "cell_type": "markdown",
   "metadata": {},
   "source": [
    "Detection Training\n",
    "----------\n"
   ]
  },
  {
   "cell_type": "code",
   "execution_count": null,
   "metadata": {},
   "outputs": [],
   "source": [
    "mlflow.set_experiment(\"COCO_ResNet_Detection_Training\")\n",
    "with mlflow.start_run(run_name=\"Detection_Model\"):\n",
    "    train_detection()  "
   ]
  },
  {
   "cell_type": "markdown",
   "metadata": {},
   "source": [
    "Segmentation Training\n",
    "----------\n"
   ]
  },
  {
   "cell_type": "code",
   "execution_count": null,
   "metadata": {},
   "outputs": [],
   "source": [
    "mlflow.set_experiment(\"COCO_ResNet_Segmentation_Training\")\n",
    "with mlflow.start_run(run_name=\"Segmentation_Model\"):\n",
    "    train_segmentation()  "
   ]
  }
 ],
 "metadata": {
  "kernelspec": {
   "display_name": "cvenv",
   "language": "python",
   "name": "python3"
  },
  "language_info": {
   "codemirror_mode": {
    "name": "ipython",
    "version": 3
   },
   "file_extension": ".py",
   "mimetype": "text/x-python",
   "name": "python",
   "nbconvert_exporter": "python",
   "pygments_lexer": "ipython3",
   "version": "3.12.3"
  }
 },
 "nbformat": 4,
 "nbformat_minor": 4
}
