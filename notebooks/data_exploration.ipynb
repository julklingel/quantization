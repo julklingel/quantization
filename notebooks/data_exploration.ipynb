{
 "cells": [
  {
   "cell_type": "markdown",
   "metadata": {},
   "source": [
    "# Data Exploration of COCO Dataset"
   ]
  },
  {
   "cell_type": "code",
   "execution_count": 1,
   "metadata": {},
   "outputs": [],
   "source": [
    "import os\n",
    "import json\n",
    "import matplotlib.pyplot as plt\n",
    "from PIL import Image\n",
    "\n",
    "\n",
    "data_dir = '../data/coco'\n",
    "annotations_file = os.path.join(data_dir, 'annotations', 'instances_train2017.json')\n",
    "\n",
    "\n",
    "with open(annotations_file) as f:\n",
    "    annotations = json.load(f)\n",
    "\n",
    "\n",
    "num_images = len(annotations['images'])\n",
    "num_categories = len(annotations['categories'])\n",
    "print(f'Number of images: {num_images}')\n",
    "print(f'Number of categories: {num_categories}')"
   ]
  },
  {
   "cell_type": "code",
   "execution_count": 2,
   "metadata": {},
   "outputs": [],
   "source": [
    "\n",
    "def display_sample_images(num_samples=5):\n",
    "    sample_images = annotations['images'][:num_samples]\n",
    "    for img in sample_images:\n",
    "        img_path = os.path.join(data_dir, 'train2017', img['file_name'])\n",
    "        image = Image.open(img_path)\n",
    "        plt.imshow(image)\n",
    "        plt.axis('off')\n",
    "        plt.title(f'Image ID: {img['id']}')\n",
    "        plt.show()\n",
    "\n",
    "display_sample_images()"
   ]
  },
  {
   "cell_type": "code",
   "execution_count": 3,
   "metadata": {},
   "outputs": [],
   "source": [
    "\n",
    "from collections import Counter\n",
    "\n",
    "category_counter = Counter()\n",
    "for annotation in annotations['annotations']:\n",
    "    category_counter[annotation['category_id']] += 1\n",
    "\n",
    "\n",
    "plt.figure(figsize=(12, 6))\n",
    "plt.bar(category_counter.keys(), category_counter.values())\n",
    "plt.xlabel('Category ID')\n",
    "plt.ylabel('Number of Instances')\n",
    "plt.title('Distribution of Categories in COCO Dataset')\n",
    "plt.show()"
   ]
  }
 ],
 "metadata": {
  "kernelspec": {
   "display_name": "cvenv",
   "language": "python",
   "name": "python3"
  },
  "language_info": {
   "codemirror_mode": {
    "name": "ipython",
    "version": 3
   },
   "file_extension": ".py",
   "mimetype": "text/x-python",
   "name": "python",
   "nbconvert_exporter": "python",
   "pygments_lexer": "ipython3",
   "version": "3.12.8"
  }
 },
 "nbformat": 4,
 "nbformat_minor": 4
}
