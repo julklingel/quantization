{
 "cells": [
  {
   "cell_type": "markdown",
   "metadata": {},
   "source": [
    "# Quantization Experiments"
   ]
  },
  {
   "cell_type": "code",
   "execution_count": null,
   "metadata": {},
   "outputs": [],
   "source": [
    "import mlflow\n",
    "import mlflow.pyfunc\n",
    "import torch\n",
    "from models.classification.resnet_classification import ResNetClassification\n",
    "from models.detection.resnet_detection import ResNetDetection\n",
    "from models.segmentation.resnet_segmentation import ResNetSegmentation\n",
    "from scripts.quantization_methods import apply_quantization\n",
    "\n",
    "\n",
    "mlflow.set_tracking_uri(\"http://localhost:5000\")\n",
    "\n",
    "\n",
    "classification_model = ResNetClassification.load_from_checkpoint('path/to/classification_model.ckpt')\n",
    "detection_model = ResNetDetection.load_from_checkpoint('path/to/detection_model.ckpt')\n",
    "segmentation_model = ResNetSegmentation.load_from_checkpoint('path/to/segmentation_model.ckpt')\n",
    "\n",
    "quantization_methods = ['dynamic', 'static', 'quantization_aware']\n",
    "\n",
    "for method in quantization_methods:\n",
    "    with mlflow.start_run():\n",
    "\n",
    "        quantized_classification_model = apply_quantization(classification_model, method)\n",
    "        quantized_detection_model = apply_quantization(detection_model, method)\n",
    "        quantized_segmentation_model = apply_quantization(segmentation_model, method)\n",
    "\n",
    "\n",
    "        classification_accuracy = evaluate_model(quantized_classification_model, 'classification')\n",
    "        detection_mAP = evaluate_model(quantized_detection_model, 'detection')\n",
    "        segmentation_mIoU = evaluate_model(quantized_segmentation_model, 'segmentation')\n",
    "\n",
    "\n",
    "        mlflow.log_param('quantization_method', method)\n",
    "        mlflow.log_metric('classification_accuracy', classification_accuracy)\n",
    "        mlflow.log_metric('detection_mAP', detection_mAP)\n",
    "        mlflow.log_metric('segmentation_mIoU', segmentation_mIoU)\n",
    "\n",
    "        print(f'Logged metrics for {method} quantization method.')"
   ]
  }
 ],
 "metadata": {
  "kernelspec": {
   "display_name": "cvenv",
   "language": "python",
   "name": "python3"
  },
  "language_info": {
   "codemirror_mode": {
    "name": "ipython",
    "version": 3
   },
   "file_extension": ".py",
   "mimetype": "text/x-python",
   "name": "python",
   "nbconvert_exporter": "python",
   "pygments_lexer": "ipython3",
   "version": "3.12.8"
  }
 },
 "nbformat": 4,
 "nbformat_minor": 4
}
